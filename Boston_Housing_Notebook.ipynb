{
 "cells": [
  {
   "cell_type": "markdown",
   "metadata": {},
   "source": [
    "## Linear Regression"
   ]
  },
  {
   "cell_type": "markdown",
   "metadata": {},
   "source": [
    "**Regression Problems**\n",
    "\n",
    "1. Amazon using labelled customer datat to predict whether the customer will buy the product or not?\n",
    "\n",
    "2. A medical company using data about cancer tumors(shape, radius) to predict whether the new tumor is benign(no-problem) or malignant (problem)?\n",
    "\n",
    "3. A restaurant using the review data to label the reviews positive or negative to a given review. \n",
    "\n",
    "4. A bike share company using the whether and time data to predict the number of bikes being rented at a given time? "
   ]
  },
  {
   "cell_type": "markdown",
   "metadata": {},
   "source": [
    "**Why it's linear ?**\n",
    "\n",
    "Let's try to do something with one variable?\n",
    "\n",
    "\n"
   ]
  },
  {
   "cell_type": "markdown",
   "metadata": {},
   "source": []
  },
  {
   "cell_type": "markdown",
   "metadata": {
    "collapsed": true
   },
   "source": [
    "## y = mx + c\n",
    "m = slope\n",
    "y-intercept \n"
   ]
  },
  {
   "cell_type": "code",
   "execution_count": 4,
   "metadata": {},
   "outputs": [],
   "source": [
    "# gradient descent error surface.png"
   ]
  },
  {
   "cell_type": "code",
   "execution_count": 5,
   "metadata": {},
   "outputs": [],
   "source": [
    "import pandas as pd\n",
    "import numpy as np \n"
   ]
  },
  {
   "cell_type": "code",
   "execution_count": 6,
   "metadata": {
    "scrolled": true
   },
   "outputs": [
    {
     "data": {
      "text/html": [
       "<div>\n",
       "<style scoped>\n",
       "    .dataframe tbody tr th:only-of-type {\n",
       "        vertical-align: middle;\n",
       "    }\n",
       "\n",
       "    .dataframe tbody tr th {\n",
       "        vertical-align: top;\n",
       "    }\n",
       "\n",
       "    .dataframe thead th {\n",
       "        text-align: right;\n",
       "    }\n",
       "</style>\n",
       "<table border=\"1\" class=\"dataframe\">\n",
       "  <thead>\n",
       "    <tr style=\"text-align: right;\">\n",
       "      <th></th>\n",
       "      <th>RM</th>\n",
       "      <th>LSTAT</th>\n",
       "      <th>PTRATIO</th>\n",
       "      <th>MEDV</th>\n",
       "    </tr>\n",
       "  </thead>\n",
       "  <tbody>\n",
       "    <tr>\n",
       "      <th>0</th>\n",
       "      <td>6.575</td>\n",
       "      <td>4.98</td>\n",
       "      <td>15.3</td>\n",
       "      <td>504000.0</td>\n",
       "    </tr>\n",
       "    <tr>\n",
       "      <th>1</th>\n",
       "      <td>6.421</td>\n",
       "      <td>9.14</td>\n",
       "      <td>17.8</td>\n",
       "      <td>453600.0</td>\n",
       "    </tr>\n",
       "    <tr>\n",
       "      <th>2</th>\n",
       "      <td>7.185</td>\n",
       "      <td>4.03</td>\n",
       "      <td>17.8</td>\n",
       "      <td>728700.0</td>\n",
       "    </tr>\n",
       "    <tr>\n",
       "      <th>3</th>\n",
       "      <td>6.998</td>\n",
       "      <td>2.94</td>\n",
       "      <td>18.7</td>\n",
       "      <td>701400.0</td>\n",
       "    </tr>\n",
       "    <tr>\n",
       "      <th>4</th>\n",
       "      <td>7.147</td>\n",
       "      <td>5.33</td>\n",
       "      <td>18.7</td>\n",
       "      <td>760200.0</td>\n",
       "    </tr>\n",
       "  </tbody>\n",
       "</table>\n",
       "</div>"
      ],
      "text/plain": [
       "      RM  LSTAT  PTRATIO      MEDV\n",
       "0  6.575   4.98     15.3  504000.0\n",
       "1  6.421   9.14     17.8  453600.0\n",
       "2  7.185   4.03     17.8  728700.0\n",
       "3  6.998   2.94     18.7  701400.0\n",
       "4  7.147   5.33     18.7  760200.0"
      ]
     },
     "execution_count": 6,
     "metadata": {},
     "output_type": "execute_result"
    }
   ],
   "source": [
    "data = pd.read_csv('../../../MSIT_ML_CLASS-master/datasets/boston_housing.csv')\n",
    "data.head()"
   ]
  },
  {
   "cell_type": "code",
   "execution_count": 7,
   "metadata": {},
   "outputs": [],
   "source": [
    "datax=np.array(data['RM'])\n",
    "datay=np.array(data['MEDV'])"
   ]
  },
  {
   "cell_type": "code",
   "execution_count": 8,
   "metadata": {},
   "outputs": [
    {
     "name": "stdout",
     "output_type": "stream",
     "text": [
      "[6.575 6.421 7.185 6.998 7.147]\n",
      "[504000. 453600. 728700. 701400. 760200.]\n"
     ]
    }
   ],
   "source": [
    "print(datax[:5])\n",
    "print(datay[:5])"
   ]
  },
  {
   "cell_type": "code",
   "execution_count": 9,
   "metadata": {},
   "outputs": [
    {
     "data": {
      "text/plain": [
       "489"
      ]
     },
     "execution_count": 9,
     "metadata": {},
     "output_type": "execute_result"
    }
   ],
   "source": [
    "datax.size"
   ]
  },
  {
   "cell_type": "markdown",
   "metadata": {},
   "source": [
    "For more work look at [Kaggle Ames Housing Competition](https://www.kaggle.com/c/house-prices-advanced-regression-techniques)"
   ]
  },
  {
   "cell_type": "code",
   "execution_count": 10,
   "metadata": {},
   "outputs": [],
   "source": [
    "def error(m,b):\n",
    "    errors=0\n",
    "    for i in range(int(datax.size)):\n",
    "        errors+=(datay[i]-datax[i]*m-b)**2\n",
    "    return errors/datax.size"
   ]
  },
  {
   "cell_type": "code",
   "execution_count": 16,
   "metadata": {},
   "outputs": [],
   "source": [
    "def gradient(m,b,iterations):\n",
    "    learning_rate=0.0001\n",
    "    errors=[error(m,b)]\n",
    "    for i in range(iterations):\n",
    "        dm,db=0,0\n",
    "        for i in range(int(datax.size)):\n",
    "            x=datax[i]\n",
    "            y=datay[i]\n",
    "            dm+=x*(y-(x*m+b))\n",
    "            db+=y-(x*m+b)\n",
    "        dm=dm*2/(datax.size)\n",
    "        db=db*2/(datax.size)\n",
    "        m,b=m+dm*learning_rate,b+db*learning_rate\n",
    "        errors.append(error(m,b))\n",
    "    return m,b,errors"
   ]
  },
  {
   "cell_type": "code",
   "execution_count": 17,
   "metadata": {},
   "outputs": [
    {
     "data": {
      "text/plain": [
       "<matplotlib.collections.PathCollection at 0x21ff1ba9710>"
      ]
     },
     "execution_count": 17,
     "metadata": {},
     "output_type": "execute_result"
    },
    {
     "data": {
      "image/png": "[encoded data removed]",
      "text/plain": [
       "<Figure size 432x288 with 1 Axes>"
      ]
     },
     "metadata": {},
     "output_type": "display_data"
    }
   ],
   "source": [
    "import matplotlib.pyplot as plot\n",
    "%matplotlib inline\n",
    "plot.scatter(datax,datay,c='r')\n"
   ]
  },
  {
   "cell_type": "code",
   "execution_count": 18,
   "metadata": {
    "scrolled": true
   },
   "outputs": [
    {
     "name": "stdout",
     "output_type": "stream",
     "text": [
      "72281.15116692701 10048.08501359232\n"
     ]
    },
    {
     "data": {
      "text/plain": [
       "[<matplotlib.lines.Line2D at 0x21ff1bd7eb8>]"
      ]
     },
     "execution_count": 18,
     "metadata": {},
     "output_type": "execute_result"
    },
    {
     "data": {
      "image/png": "[encoded data removed]",
      "text/plain": [
       "<Figure size 432x288 with 1 Axes>"
      ]
     },
     "metadata": {},
     "output_type": "display_data"
    }
   ],
   "source": [
    "m,b,errors=gradient(0,0,1000)\n",
    "\n",
    "print(m,b)\n",
    "xp = np.arange(1,10)\n",
    "yp = m*xp + b\n",
    "plot.yticks(range(0,100001,200000))\n",
    "plot.scatter(datax,datay,c='r')\n",
    "plot.plot(xp,yp)\n",
    "#yp\n",
    "#print (errors)"
   ]
  },
  {
   "cell_type": "code",
   "execution_count": 19,
   "metadata": {},
   "outputs": [
    {
     "data": {
      "text/plain": [
       "[<matplotlib.lines.Line2D at 0x21ff1c4beb8>]"
      ]
     },
     "execution_count": 19,
     "metadata": {},
     "output_type": "execute_result"
    },
    {
     "data": {
      "image/png": "[encoded data removed]",
      "text/plain": [
       "<Figure size 432x288 with 1 Axes>"
      ]
     },
     "metadata": {},
     "output_type": "display_data"
    }
   ],
   "source": [
    "plot.plot(errors)"
   ]
  },
  {
   "cell_type": "code",
   "execution_count": 15,
   "metadata": {},
   "outputs": [
    {
     "name": "stdout",
     "output_type": "stream",
     "text": [
      "[233709014171.77914, 237191134374.0015, 240729674572.7038, 244325548933.3173, 247979686433.36823, 251693031102.48074, 255466542266.2583, 259301194794.1259, 263197979351.18347, 267157902654.14178, 271181987731.402, 275271274187.356, 279426818470.961, 283649694148.6708, 287940992181.7902, 292301821208.31836, 296733307829.3629, 301236596900.196, 305812851826.02, 310463254862.53296, 315189007421.3581, 319991330380.4261, 324871464399.3853, 329830670240.1209, 334870229092.4689, 339991442905.2081, 345195634722.41455, 350484149025.26373, 355858352079.3763, 361319632287.7852, 366869400549.6279, 372509090624.6441, 378240159503.587, 384064087784.63043, 389982380055.8746, 395996565284.0544, 402108197209.5442, 408318854747.7564, 414630142397.0539, 421043690653.2659, 427561156430.9202, 434184223491.3025, 440914602877.4522, 447754033356.20154, 454704281867.3823, 461767143980.3106, 468944444357.66364, 476238037226.87695, 483649806859.1776, 491181668056.38086, 498835566645.5697, 506613479981.79895, 514517417458.93164, 522549421028.764, 530711565728.55664, 539005960217.11383, 547434747319.5439, 556000104580.8604, 564704244828.5361, 573549416744.1837, 582537905444.4915, 591672033071.5836, 600954159392.9283, 610386682410.9849, 619972038982.7142, 629712705449.1351, 639611198275.0793, 649670074699.3116, 659891933395.1829, 670279415141.993, 680835203507.2222, 691562025539.8286, 702462652474.765, 713539900448.9259, 724796631228.68, 736235752949.2067, 747860220865.7983, 759673038117.3384, 771677256502.1564, 783875977266.4591, 796272351905.5044, 808869582977.8005, 821670924932.4744, 834679684950.0366, 847899223796.7925, 861332956693.0791, 874984354195.5784, 888856943093.9225, 902954307321.8342, 917280088883.0211, 931837988792.0687, 946631768030.5996, 961665248518.8975, 976942314103.2996, 992466911559.5652, 1008243051612.5222, 1024274809972.218, 1040566328386.8672, 1057121815712.865, 1073945549002.1213, 1091041874607.0348, 1108415209303.3467, 1126070041431.2139, 1144010932054.7473, 1162242516140.3533, 1180769503754.1553, 1199596681278.8364, 1218728912650.1763, 1238171140613.634, 1257928388001.293, 1278005759029.4998, 1298408440617.507, 1319141703727.5076, 1340210904726.3699, 1361621486769.441, 1383378981206.7563, 1405489009012.0593, 1427957282234.9534, 1450789605476.6028, 1473991877389.3145, 1497570092200.4517, 1521530341261.02, 1545878814619.3406, 1570621802620.2402, 1595765697530.1353, 1621316995188.453, 1647282296685.8154, 1673668310069.3992, 1700481852075.954, 1727729849892.871, 1755419342947.8108, 1783557484727.3027, 1812151544624.836, 1841208909818.884, 1870737087181.3552, 1900743705216.9624, 1931236516034.0403, 1962223397347.262, 1993712354512.8262, 2025711522596.6165, 2058229168475.8608, 2091273692974.8796, 2124853633035.3743, 2158977663921.9392, 2193654601463.298, 2228893404329.8164, 2264703176347.9795, 2301093168852.307, 2338072783075.417, 2375651572576.813, 2413839245711.0015, 2452645668135.6245, 2492080865360.2065, 2532155025336.2324, 2572878501089.162, 2614261813393.093, 2656315653488.775, 2699050885845.6724, 2742478550968.7417, 2786609868250.722, 2831456238870.6304, 2877029248739.2075, 2923340671492.1235, 2970402471531.6514, 3018226807117.5938, 3066826033508.4, 3116212706153.0444, 3166399583934.7266, 3217399632467.067, 3269226027443.7354, 3321892158042.3594, 3375411630383.5625, 3429798271046.0635, 3485066130638.742, 3541229487430.5493, 3598302851039.26, 3656300966179.992, 3715238816474.4565, 3775131628321.916, 3835994874832.8813, 3897844279826.553, 3960695821892.99, 4024565738521.1646, 4089470530293.8433, 4155426965150.443, 4222452082719.018, 4290563198718.352, 4359777909431.453, 4430114096251.458, 4501589930301.27, 4574223877127.984, 4648034701473.415, 4723041472121.92, 4799263566826.709, 4876720677316.083, 4955432814380.696, 5035420313043.314, 5116703837812.223, 5199304388019.926, 5283243303248.219, 5368542268841.199, 5455223321507.587, 5543308855013.896, 5632821625969.718, 5723784759706.883, 5816221756253.776, 5910156496406.501, 6005613247898.422, 6102616671669.625, 6201191828238.051, 6301364184173.715, 6403159618677.987, 6506604430269.366, 6611725343577.638, 6718549516248.047, 6827104545957.451, 6937418477544.071, 7049519810252.765, 7163437505097.721, 7279200992344.483, 7396840179113.096, 7516385457104.57, 7637867710452.481, 7761318323701.724, 7886769189916.712, 8014252718920.695, 8143801845668.943, 8275450038757.147, 8409231309068.161, 8545180218558.42, 8683331889186.972, 8823722011989.193, 8966386856297.303, 9111363279110.58, 9258688734617.197, 9408401283870.303, 9560539604621.121, 9715143001311.113, 9872251415226.223, 10031905434815.514, 10194146306177.133, 10359015943714.025, 10526556940962.514, 10696812581596.008, 10869826850607.46, 11045644445672.496, 11224310788697.055, 11405872037551.969, 11590375097997.676, 11777867635802.225, 11968398089055.496, 12162015680683.096, 12358770431162.945, 12558713171447.8, 12761895556097.42, 12968370076623.18, 13178190075049.348, 13391409757693.52, 13608084209170.812, 13828269406624.834, 14052022234189.117, 14279400497682.953, 14510462939545.377, 14745269254011.05, 14983880102532.145, 15226357129449.951, 15472762977920.518, 15723161306098.379, 15977616803582.328, 16236195208127.836, 16498963322630.156, 16765989032382.682, 17037341322614.84, 17313090296314.287, 17593307192337.613, 17878064403814.906, 18167435496852.098, 18461495229536.676, 18760319571251.02, 19063985722299.03, 19372572133850.496, 19686158528208.684, 20004825919406.29, 20328656634135.383, 20657734333015.965, 20992144032209.55, 21331972125382.812, 21677306406027.242, 22028236090139.91, 22384851839272.676, 22747245783953.832, 23115511547490.055, 23489744270153.51, 23870040633761.094, 24256498886651.89, 24649218869069.28, 25048302038954.355, 25453851498157.19, 25865972019073.11, 26284770071709.914, 26710353851194.426, 27142833305724.098, 27582320164971.992, 28028927968951.625, 28482772097349.707, 28943969799334.11, 29412640223844.82, 29888904450375.832, 30372885520255.203, 30864708468432.965, 31364500355783.105, 31872390301929.457, 32388509518603.387, 32912991343541.785, 33445971274934.594, 33987587006430.203, 34537978462708.316, 35097287835628.88, 35665659620966.98, 36243240655742.836, 36830180156156.71, 37426629756138.445, 38032743546521.39, 38648678114851.64, 39274592585841.625, 39910648662479.59, 40557010667805.06, 41213845587361.15, 41881323112334.66, 42559615683395.375, 43248898535245.43, 43949349741890.81, 44661150262646.03, 45384483988884.414, 46119537791546.125, 46866501569415.07, 47625568298179.15, 48396934080284.734, 49180798195599.33, 49977363152894.414, 50786834742163.25, 51609422087786.18, 52445337702557.0, 53294797542584.81, 54158021063086.19, 55035231275080.07, 55926654803002.336, 56832521943253.34, 57753066723694.39, 58688526964107.945, 59639144337637.47, 60605164433223.41, 61586836819049.64, 62584415107019.34, 63598157018274.1, 64628324449775.805, 65675183541966.69, 66739004747525.97, 67820062901240.266, 68918637291006.75, 70035011729985.37, 71169474629922.02, 72322319075658.27, 73493842900848.9, 74684348764906.66, 75894144231192.84, 77123541846475.6, 78372859221675.2, 79642419113918.2, 80932549509920.06, 82243583710720.1, 83575860417788.45, 84929723820528.3, 86305523685196.42, 87703615445264.28, 89124360293242.69, 90568125273995.08, 92035283379562.16, 93526213645523.45, 95041301248919.47, 96580937607761.75, 98145520482153.27, 99735454077050.06, 101351149146684.69, 102993023100684.12, 104661500111905.98, 106357011226022.75, 108079994472879.95, 109830894979660.78, 111610165085882.56, 113418264460257.89, 115255660219447.61, 117122827048740.39, 119020247324684.1, 120948411239708.53, 122907816928763.31, 124898970598009.86, 126922386655598.58, 128978587844564.52, 131068105377875.73, 133191479075671.08, 135349257504720.31, 137541998120145.6, 139770267409437.66, 142034641038805.44, 144335704001898.84, 146674050770938.53, 149050285450297.25, 151465021932568.03, 153918884057160.16, 156412505771467.3, 158946531294645.97, 161521615284045.97, 164138423004341.06, 166797630499395.44, 169499924766920.6, 172246003935956.3, 175036577447231.03, 177872366236443.8, 180754102920515.75, 183682531986859.03, 186658409985711.94, 189682505725593.44, 192755600471920.38, 195878488148845.03, 199051975544364.44, 202276882518749.16, 205554042216354.2, 208884301280856.75, 212268520073985.0, 215707572897790.44, 219202348220519.78, 222753748906148.34, 226362692447632.12, 230030111203938.84, 233756952640921.1, 237544179576089.0, 241392770427353.0, 245303719465793.34, 249278037072529.34, 253316749999744.66, 257420901635947.6, 261591552275527.03, 265829779392676.4, 270136677919753.7, 274513360530156.47, 278960957925774.94, 283480619129107.0, 288073511780103.25, 292740822437824.8, 297483756886984.6, 302303540449459.4, 307201418300848.06, 312178655792157.7, 317236538776704.0, 322376373942305.9, 327599489148867.2, 332907233771419.75, 338300979048735.25, 343782118437578.4, 349352067972701.25, 355012266632671.8, 360764176711630.5, 366609284197067.1, 372549099153722.4, 378585156113709.56, 384719014472952.6, 390952258894052.8, 397286499715683.1, 403723373368610.7, 410264542798464.1, 416911697895353.44, 423666555930444.94, 430530861999610.06, 437506389474273.4, 444594940459547.25, 451798346259808.0, 459118467851804.44, 466557196365434.06, 474116453572312.25, 481798192382256.6, 489604397347810.9, 497537085176951.3, 505598305254097.06, 513790140169559.0, 522114706257573.4, 530574154143047.94, 539170669297169.1, 547906472602012.0, 556783820924299.9, 565805007698454.0, 574972363519100.0, 584288256743166.4, 593755094101740.8, 603375321321847.4, 613151423758285.0, 623085927035715.5, 633181397701149.1, 643440443887002.0, 653865715984903.6, 664459907330412.1, 675225754898831.0, 686166040012298.9, 697283589058331.5, 708581274220013.1, 720062014218017.6, 731728775064643.9, 743584570830082.2, 755632464421084.9, 767875568372263.8, 780317045650196.2, 792960110470575.9, 805808029128587.2, 818864120842746.5, 832131758612410.9, 845614370089181.6, 859315438462427.1, 873238503359150.5, 887387161758447.9, 901765068920770.5, 916375939332252.6, 931223547664331.4, 946311729748926.1, 961644383569420.8, 977225470267677.0, 993059015167396.6, 1009149108814047.6, 1025499908031640.8, 1042115636996638.1, 1059000588329243.2, 1076159124202401.1, 1093595677468742.1, 1111314752805795.6, 1129320927879761.0, 1147618854528131.5, 1166213259961488.2, 1185108947984747.5, 1204310800238218.0, 1223823777458754.5, 1243652920761345.8, 1263803352941475.5, 1284280279798573.2, 1305088991480921.2, 1326234863852348.5, 1347723359881061.8, 1369560031050990.8, 1391750518795993.2, 1414300555957301.8, 1437215968264594.2, 1460502675841034.0, 1484166694732726.2, 1508214138462948.2, 1532651219611546.2, 1557484251419950.0, 1582719649422162.0, 1608363933102202.8, 1634423727578394.2, 1660905765314937.8, 1687816887861228.0, 1715164047619337.2, 1742954309640154.5, 1771194853448608.8, 1799892974898489.5, 1829056088057303.5, 1858691727121662.5, 1888807548363734.5, 1919411332109206.0, 1950510984747319.8, 1982114540773438.2, 2014230164864759.5, 2046866153989615.2, 2080030939550974.0, 2113733089564665.2, 2147981310872898.8, 2182784451393647.8, 2218151502406486.5, 2254091600875450.0, 2290614031809539.0, 2327728230661485.5, 2365443785765361.0, 2403770440813684.5, 2442718097374691.0, 2482296817450356.0, 2522516826075900.5, 2563388513961369.0, 2604922440176047.5, 2647129334876384.5, 2690020102078050.0, 2733605822473007.0, 2777897756292126.0, 2822907346214255.0, 2868646220322377.0, 2915126195107722.0, 2962359278522488.0, 3010357673082073.5, 3059133779017551.0, 3108700197479228.5, 3159069733792119.0, 3210255400764150.5, 3262270422047987.0, 3315128235557320.0, 3368842496938491.5, 3423427083098414.5, 3478896095789619.5, 3535263865253359.0, 3592544953921852.5, 3650754160180373.0, 3709906522190402.5, 3770017321774682.5, 3831102088365224.0, 3893176603015281.5, 3956256902476343.0, 4020359283341185.0, 4085500306254000.0, 4151696800188859.0, 4218965866797356.5, 4287324884826793.5, 4356791514609931.5, 4427383702627454.5, 4499119686144421.5, 4572017997921761.0, 4646097471004189.0, 4721377243585667.0, 4797876763953649.0, 4875615795513518.0, 4954614421894404.0, 5034893052137703.0, 5116472425969721.0, 5199373619159649.0, 5283618048964489.0, 5369227479662130.0, 5456224028174022.0, 5544630169779057.0, 5634468743919989.0, 5725762960103898.0, 5818536403898332.0, 5912813043024521.0, 6008617233549391.0, 6105973726177852.0, 6204907672647121.0, 6305444632224492.0, 6407610578310577.0, 6511431905149416.0, 6616935434647356.0, 6724148423302386.0, 6833098569245772.0, 6943814019397827.0, 7056323376739477.0, 7170655707701869.0, 7286840549675481.0, 7404907918641085.0, 7524888316924251.0, 7646812741075531.0, 7770712689878301.0, 7896620172486414.0, 8024567716693624.0, 8154588377337035.0, 8286715744836743.0, 8420983953873752.0, 8557427692208644.0, 8696082209643031.0, 8836983327126135.0, 8980167446009111.0, 9125671557449230.0, 9273533251966354.0, 9423790729154356.0, 9576482807549914.0, 9731648934661032.0, 9889329197158318.0, 1.0049564331231168e+16, 1.0212395733111822e+16, 1.0377865469770004e+16, 1.0546016289780716e+16, 1.0716891634368256e+16, 1.08905356486291e+16, 1.1066993192936612e+16, 1.1246309854530676e+16, 1.1428531959294838e+16, 1.1613706583724676e+16, 1.1801881567089616e+16, 1.1993105523792314e+16, 1.218742785592777e+16, 1.2384898766046412e+16, 1.258556927012365e+16, 1.2789491210739682e+16, 1.2996717270472914e+16, 1.3207300985510424e+16, 1.3421296759478522e+16, 1.3638759877498198e+16, 1.3859746520467518e+16, 1.4084313779576e+16, 1.431251967105374e+16, 1.4544423151159868e+16, 1.4780084131413674e+16, 1.5019563494072548e+16, 1.5262923107860656e+16, 1.5510225843952648e+16, 1.5761535592216106e+16, 1.6016917277717354e+16, 1.627643687749461e+16, 1.6540161437603022e+16, 1.6808159090435616e+16, 1.7080499072325352e+16, 1.7357251741431802e+16, 1.7638488595918232e+16, 1.7924282292422708e+16, 1.8214706664828804e+16, 1.8509836743340436e+16, 1.880974877386548e+16, 1.9114520237713772e+16, 1.942422987161419e+16, 1.9738957688055932e+16, 2.0058784995959564e+16, 2.0383794421682904e+16, 2.071406993036723e+16, 2.1049696847629444e+16, 2.139076188160573e+16, 2.173735314535216e+16, 2.2089560179608588e+16, 2.244747397593117e+16, 2.2811187000199584e+16, 2.3180793216505584e+16, 2.3556388111428004e+16, 2.3938068718701716e+16, 2.432593364428577e+16, 2.472008309183789e+16, 2.512061888860203e+16, 2.5527644511714828e+16, 2.594126511493881e+16, 2.6361587555828364e+16, 2.6788720423336136e+16, 2.7222774065866664e+16, 2.766386061978438e+16, 2.811209403838387e+16, 2.856759012132924e+16, 2.903046654457057e+16, 2.950084289074521e+16, 2.997884068007146e+16, 3.0464583401742964e+16, 3.0958196545831904e+16, 3.1459807635708624e+16, 3.1969546260987132e+16, 3.2487544111004308e+16, 3.301393500884083e+16, 3.3548854945894708e+16, 3.4092442117013576e+16, 3.4644836956197224e+16, 3.5206182172878316e+16, 3.577662278879065e+16, 3.635630617543526e+16, 3.694538209215333e+16, 3.754400272481596e+16, 3.815232272514108e+16, 3.877049925064691e+16, 3.9398692005253496e+16, 4.003706328054144e+16, 4.068577799767938e+16, 4.134500375003101e+16, 4.201491084645222e+16, 4.269567235528991e+16, 4.3387464149093384e+16, 4.409046495005068e+16, 4.4804856376161016e+16, 4.553082298815489e+16, 4.62685523371749e+16, 4.701823501322895e+16, 4.778006469442865e+16, 4.855423819702546e+16, 4.934095552625724e+16, 5.014041992801926e+16, 5.095283794137227e+16, 5.177841945190051e+16, 5.261737774593596e+16, 5.346992956565914e+16, 5.433629516509476e+16, 5.521669836701273e+16, 5.611136662075275e+16, 5.70205310609849e+16, 5.794442656742208e+16, 5.8883291825501144e+16, 5.983736938804641e+16, 6.080690573793169e+16, 6.1792151351759176e+16, 6.279336076456894e+16, 6.3810792635597176e+16, 6.4844709815099864e+16, 6.5895379412260024e+16, 6.6963072864193416e+16, 6.8048066006074296e+16, 6.9150639142396216e+16, 7.027107711938774e+16, 7.140966939860181e+16, 7.256671013169666e+16, 7.374249823643003e+16, 7.493733747388232e+16, 7.615153652693275e+16, 7.738540908000747e+16, 7.863927390011755e+16, 7.99134549192122e+16, 8.120828131786542e+16, 8.252408761031874e+16, 8.386121373090176e+16, 8.522000512185333e+16, 8.660081282256517e+16, 8.800399356027213e+16, 8.942990984221106e+16, 9.087893004927424e+16, 9.23514285311777e+16, 9.384778570317534e+16, 9.536838814433658e+16, 9.69136286974184e+16, 9.8483906570355e+16, 1.0007962743939131e+17, 1.0170120355388902e+17, 1.0334905384282902e+17, 1.0502360402304162e+17, 1.0672528670918712e+17, 1.0845454152552254e+17, 1.1021181521947584e+17, 1.119975617770618e+17, 1.138122425401683e+17, 1.1565632632574232e+17, 1.1753028954690736e+17, 1.1943461633604275e+17, 1.2136979866985864e+17, 1.2333633649649549e+17, 1.2533473786468486e+17, 1.2736551905500174e+17, 1.2942920471324496e+17, 1.315263279859761e+17, 1.3365743065825715e+17, 1.3582306329361925e+17, 1.3802378537629834e+17, 1.4026016545577632e+17, 1.4253278129366418e+17, 1.448422200129648e+17, 1.4718907824975376e+17, 1.495739623073194e+17, 1.5199748831279837e+17, 1.5446028237635046e+17, 1.5696298075291222e+17, 1.5950623000657162e+17, 1.6209068717760467e+17, 1.647170199522216e+17, 1.6738590683505907e+17, 1.7009803732447197e+17, 1.7285411209066166e+17, 1.756548431566923e+17, 1.7850095408243974e+17, 1.8139318015152032e+17, 1.8433226856125088e+17, 1.873189786156817e+17, 1.9035408192176323e+17, 1.9343836258868704e+17, 1.9657261743045738e+17, 1.997576561717462e+17, 2.0299430165708285e+17, 2.062833900634343e+17, 2.0962577111622512e+17, 2.1302230830886714e+17, 2.1647387912583446e+17, 2.199813752693624e+17, 2.235457028898147e+17, 2.271677828197842e+17, 2.3084855081198854e+17, 2.345889577810163e+17, 2.383899700489954e+17, 2.4225256959523677e+17, 2.4617775430992813e+17, 2.5016653825193408e+17, 2.5421995191077498e+17, 2.5833904247285146e+17, 2.6252487409198102e+17, 2.6677852816431827e+17, 2.7110110360773206e+17, 2.754937171457048e+17, 2.7995750359583674e+17, 2.8449361616302003e+17, 2.891032267373687e+17, 2.937875261969697e+17, 2.9854772471554374e+17, 3.033850520750896e+17, 3.0830075798359514e+17, 3.1329611239789306e+17, 3.1837240585175354e+17, 3.235309497892864e+17, 3.2877307690375014e+17, 3.3410014148184877e+17, 3.3951351975360755e+17, 3.4501461024791654e+17, 3.506048341538365e+17, 3.5628563568776026e+17, 3.620584824665184e+17, 3.679248658865354e+17, 3.738863015091281e+17, 3.799443294520419e+17, 3.8610051478733894e+17, 3.9235644794572966e+17, 3.987137451274542e+17, 4.051740487198201e+17, 4.1173902772151206e+17, 4.1841037817377094e+17, 4.251898235985593e+17, 4.320791154438293e+17, 4.3908003353600326e+17, 4.4619438653978445e+17, 4.534240124254231e+17, 4.607707789435466e+17, 4.682365841076906e+17, 4.758233566846397e+17, 4.835330566927238e+17, 4.9136767590817715e+17, 4.993292383797133e+17, 5.074198009514267e+17, 5.156414537941717e+17, 5.239963209455557e+17, 5.324865608586743e+17, 5.4111436695974035e+17, 5.498819682147503e+17, 5.587916297053296e+17, 5.678456532139096e+17, 5.770463778183827e+17, 5.86396180496403e+17, 5.958974767394616e+17, 6.055527211769299e+17, 6.153644082101969e+17, 6.25335072657095e+17, 6.354672904067625e+17, 6.457636790851137e+17, 6.562268987310926e+17, 6.668596524838925e+17, 6.776646872812938e+17, 6.886447945693352e+17, 6.998028110234706e+17, 7.111416192814134e+17, 7.226641486878595e+17, 7.343733760512756e+17, 7.462723264129445e+17, 7.583640738284748e+17, 7.706517421619779e+17, 7.831385058931021e+17, 7.958275909371537e+17, 8.087222754785021e+17, 8.218258908174825e+17, 8.351418222310326e+17, 8.486735098472686e+17, 8.624244495342231e+17, 8.763981938030034e+17, 8.905983527255613e+17, 9.050285948673466e+17, 9.196926482350726e+17, 9.34594301239827e+17, 9.497374036758066e+17, 9.651258677148922e+17, 9.807636689173407e+17, 9.96654847258872e+17, 1.0128035081743726e+18, 1.0292138236185239e+18, 1.045890033143618e+18, 1.062836444994824e+18, 1.0800574372232201e+18, 1.0975574588168374e+18, 1.1153410308500493e+18, 1.1334127476515771e+18, 1.151777277991413e+18, 1.1704393662869921e+18, 1.1894038338288845e+18, 1.2086755800263762e+18, 1.2282595836731983e+18, 1.2481609042337958e+18, 1.2683846831504202e+18, 1.288936145171401e+18, 1.3098205997009452e+18, 1.3310434421708068e+18, 1.352610155434175e+18, 1.3745263111821586e+18, 1.396797571383201e+18, 1.4194296897458545e+18, 1.4424285132052047e+18, 1.4657999834334305e+18, 1.4895501383747996e+18, 1.5136851138055654e+18, 1.5382111449191132e+18, 1.5631345679368146e+18, 1.5884618217449577e+18, 1.614199449558222e+18, 1.6403541006100846e+18, 1.6669325318706522e+18, 1.6939416097922796e+18, 1.7213883120834934e+18, 1.749279729511688e+18, 1.7776230677349724e+18, 1.806425649163749e+18, 1.8356949148524252e+18, 1.8654384264217874e+18, 1.8956638680125202e+18, 1.9263790482703828e+18, 1.9575919023635484e+18, 1.9893104940326267e+18, 2.0215430176739034e+18, 2.0542978004563392e+18]\n"
     ]
    }
   ],
   "source": [
    "print(errors)"
   ]
  },
  {
   "cell_type": "code",
   "execution_count": null,
   "metadata": {},
   "outputs": [],
   "source": []
  }
 ],
 "metadata": {
  "kernelspec": {
   "display_name": "Python 3",
   "language": "python",
   "name": "python3"
  },
  "language_info": {
   "codemirror_mode": {
    "name": "ipython",
    "version": 3
   },
   "file_extension": ".py",
   "mimetype": "text/x-python",
   "name": "python",
   "nbconvert_exporter": "python",
   "pygments_lexer": "ipython3",
   "version": "3.6.5"
  }
 },
 "nbformat": 4,
 "nbformat_minor": 2
}
